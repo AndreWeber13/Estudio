{
 "cells": [
  {
   "cell_type": "markdown",
   "metadata": {},
   "source": [
    "# Arreglos con NumPy"
   ]
  },
  {
   "cell_type": "code",
   "execution_count": 1,
   "metadata": {},
   "outputs": [
    {
     "name": "stdout",
     "output_type": "stream",
     "text": [
      "[1. 2. 3.]\n",
      "(3,)\n",
      "float64\n"
     ]
    }
   ],
   "source": [
    "# Importamos la paquetería\n",
    "from numpy import array\n",
    "\n",
    "# Creamos el arreglo\n",
    "l = [1.0, 2.0, 3.0]\n",
    "a = array(l)\n",
    "\n",
    "# Enseñamos el contenido\n",
    "print(a)\n",
    "# Enseñamos la forma del arreglo\n",
    "print(a.shape)\n",
    "# Enseñamos el tipo de arreglo\n",
    "print(a.dtype)"
   ]
  },
  {
   "cell_type": "markdown",
   "metadata": {},
   "source": [
    "La primera salida resulta ser el contenido del arreglo.\n",
    "La segunda salida resulta ser el tamaño del arreglo, éste es un arreglo unidimensional con tres elementos.\n",
    "Por último, muestra el tipo de objeto que guarda, el \"float64\" indica un objeto de punto flotante."
   ]
  },
  {
   "cell_type": "markdown",
   "metadata": {},
   "source": [
    "## Funciones para Crear Arreglos"
   ]
  },
  {
   "cell_type": "code",
   "execution_count": 2,
   "metadata": {},
   "outputs": [
    {
     "name": "stdout",
     "output_type": "stream",
     "text": [
      "[[0.00e+000 0.00e+000 0.00e+000]\n",
      " [0.00e+000 0.00e+000 5.93e-321]\n",
      " [0.00e+000 0.00e+000 0.00e+000]]\n"
     ]
    }
   ],
   "source": [
    "# Creamos un arreglo vacío\n",
    "from numpy import empty\n",
    "a = empty([3,3])\n",
    "print(a)"
   ]
  },
  {
   "cell_type": "code",
   "execution_count": 3,
   "metadata": {},
   "outputs": [
    {
     "name": "stdout",
     "output_type": "stream",
     "text": [
      "[[0. 0. 0. 0. 0.]\n",
      " [0. 0. 0. 0. 0.]\n",
      " [0. 0. 0. 0. 0.]]\n"
     ]
    }
   ],
   "source": [
    "# Creamos un arreglo de ceros\n",
    "from numpy import zeros\n",
    "a = zeros([3,5])\n",
    "print(a)"
   ]
  },
  {
   "cell_type": "code",
   "execution_count": 4,
   "metadata": {},
   "outputs": [
    {
     "name": "stdout",
     "output_type": "stream",
     "text": [
      "[1. 1. 1. 1. 1.]\n"
     ]
    }
   ],
   "source": [
    "# Creamos un arreglo de unos\n",
    "from numpy import ones\n",
    "a = ones([5])\n",
    "print(a)"
   ]
  },
  {
   "cell_type": "markdown",
   "metadata": {},
   "source": [
    "## Unión de Arreglos"
   ]
  },
  {
   "cell_type": "markdown",
   "metadata": {},
   "source": [
    "### Stack Vertical"
   ]
  },
  {
   "cell_type": "code",
   "execution_count": 5,
   "metadata": {},
   "outputs": [
    {
     "name": "stdout",
     "output_type": "stream",
     "text": [
      "[1 2 3]\n",
      "[4 5 6]\n",
      "[[1 2 3]\n",
      " [4 5 6]]\n",
      "(2, 3)\n"
     ]
    }
   ],
   "source": [
    "# Crear un arreglo con vstack\n",
    "from numpy import array\n",
    "from numpy import vstack\n",
    "# Crea el primer arreglo\n",
    "a1 = array([1,2,3])\n",
    "print(a1)\n",
    "# Crea el segundo arreglo\n",
    "a2 = array([4,5,6])\n",
    "print(a2)\n",
    "# Hacemos la unión en stack vertical\n",
    "a3 = vstack((a1, a2))\n",
    "print(a3)\n",
    "print(a3.shape)"
   ]
  },
  {
   "cell_type": "markdown",
   "metadata": {},
   "source": [
    "Véase que al imprimir la forma del arreglo, da como resultado uno de dos renglones y tres columnas."
   ]
  },
  {
   "cell_type": "markdown",
   "metadata": {},
   "source": [
    "### Stack Horizontal"
   ]
  },
  {
   "cell_type": "code",
   "execution_count": 6,
   "metadata": {},
   "outputs": [
    {
     "name": "stdout",
     "output_type": "stream",
     "text": [
      "[1 2 3]\n",
      "[4 5 6]\n",
      "[1 2 3 4 5 6]\n",
      "(6,)\n"
     ]
    }
   ],
   "source": [
    "# Unión horizontal de arreglos\n",
    "from numpy import array\n",
    "from numpy import hstack\n",
    "# Crea el primer arreglo\n",
    "a1 = array([1,2,3])\n",
    "print(a1)\n",
    "# Crea el segundo arreglo\n",
    "a2 = array([4,5,6])\n",
    "print(a2)\n",
    "# Crea la unión horizontal\n",
    "a3 = hstack((a1, a2))\n",
    "print(a3)\n",
    "print(a3.shape)"
   ]
  },
  {
   "cell_type": "markdown",
   "metadata": {},
   "source": [
    "Véase que al imprimir la forma del arreglo, da como resultado un arreglo unidimensional con 6 elementos."
   ]
  }
 ],
 "metadata": {
  "kernelspec": {
   "display_name": "Python 3",
   "language": "python",
   "name": "python3"
  },
  "language_info": {
   "codemirror_mode": {
    "name": "ipython",
    "version": 3
   },
   "file_extension": ".py",
   "mimetype": "text/x-python",
   "name": "python",
   "nbconvert_exporter": "python",
   "pygments_lexer": "ipython3",
   "version": "3.8.3"
  }
 },
 "nbformat": 4,
 "nbformat_minor": 4
}
