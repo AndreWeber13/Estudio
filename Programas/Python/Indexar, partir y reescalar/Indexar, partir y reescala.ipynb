{
 "cells": [
  {
   "cell_type": "markdown",
   "metadata": {},
   "source": [
    "# De listas a arreglos"
   ]
  },
  {
   "cell_type": "markdown",
   "metadata": {},
   "source": [
    "## De Lista Unidimensional a un Arreglo\n"
   ]
  },
  {
   "cell_type": "code",
   "execution_count": 4,
   "metadata": {},
   "outputs": [
    {
     "name": "stdout",
     "output_type": "stream",
     "text": [
      "[11 22 33 44 55]\n",
      "<class 'numpy.ndarray'>\n"
     ]
    }
   ],
   "source": [
    "import numpy as np\n",
    "\n",
    "# Creamos los datos\n",
    "data = [11, 22, 33, 44, 55]\n",
    "\n",
    "#Lo convertimos en un arreglo\n",
    "data = np.array(data)\n",
    "\n",
    "# Imprimimos la información y el tipo de información\n",
    "print(data)\n",
    "print(type(data))\n"
   ]
  },
  {
   "cell_type": "markdown",
   "metadata": {},
   "source": [
    "## De Lista Bidimensionales a un Arreglo"
   ]
  },
  {
   "cell_type": "code",
   "execution_count": 2,
   "metadata": {},
   "outputs": [
    {
     "name": "stdout",
     "output_type": "stream",
     "text": [
      "[[11 22]\n",
      " [33 44]\n",
      " [55 66]]\n",
      "<class 'numpy.ndarray'>\n"
     ]
    }
   ],
   "source": [
    "# Creamos los datos\n",
    "list = [[11, 22],\n",
    "       [33, 44],\n",
    "       [55, 66]]\n",
    "\n",
    "# Lo ponemos en un arreglo\n",
    "data = np.array(list)\n",
    "\n",
    "# Imprimimos lo guardado\n",
    "print(data)\n",
    "print(type(data))"
   ]
  },
  {
   "cell_type": "markdown",
   "metadata": {},
   "source": [
    "## Índice del Arreglo\n",
    "\n",
    "Para acceder a un elemento del arreglo, se siga la notación que se utiliza en otros lenguajes como Java o C#, para acceder al primer elemento, se usa el 0; para acceder al segundo, se usa el 1 y así suscesivamente. "
   ]
  },
  {
   "cell_type": "code",
   "execution_count": 4,
   "metadata": {},
   "outputs": [
    {
     "name": "stdout",
     "output_type": "stream",
     "text": [
      "11\n",
      "22\n",
      "66\n",
      "55\n"
     ]
    }
   ],
   "source": [
    "# Por ejemplo si utilizamos un arreglo unidimensional\\\n",
    "data = np.array([11, 22, 33, 44, 55, 66])\n",
    "\n",
    "# Ahora imprimimos un par de elementos\n",
    "print(data[0])\n",
    "print(data[1])\n",
    "\n",
    "# También podemos usar índices negativos, empezando por -1 para obtener el último elemento\n",
    "print(data[-1])\n",
    "print(data[-2])"
   ]
  },
  {
   "cell_type": "markdown",
   "metadata": {},
   "source": [
    "## Índices Bidimensionales\n",
    "\n",
    "Parecido a los índice unidimensionales, para los bidimensionales se necesitan dos entradas, separadas por coma. Ahora se mostrará un ejemplo."
   ]
  },
  {
   "cell_type": "code",
   "execution_count": 11,
   "metadata": {},
   "outputs": [
    {
     "name": "stdout",
     "output_type": "stream",
     "text": [
      "11\n",
      "33\n",
      "[11 22]\n"
     ]
    }
   ],
   "source": [
    "# Creamos un arreglo bidimensional\n",
    "data = np.array([[11, 22],\n",
    "             [33, 44],\n",
    "            [ 55, 66]])\n",
    "\n",
    "# Vamos a pedir un par de ejemplos\n",
    "print(data[0, 0])\n",
    "print(data[1,0])\n",
    "\n",
    "# También podemos pedir un renglón entero, que sería el n-ésimo elemento del arreglo\n",
    "print(data[0,])\n"
   ]
  },
  {
   "cell_type": "markdown",
   "metadata": {},
   "source": [
    "## Partir un arreglo\n",
    "\n",
    "Otra propiedad de los arreglos es que se puede seleccionar únicamente una porción del mismo. En inglés se le conoce como \"slice\". Es muy útil en Machine Learning porque de esta manera, se pueden especificar las variables de input y de output. Para partir el arreglo, se utiliza el operador \":\"."
   ]
  },
  {
   "cell_type": "code",
   "execution_count": 17,
   "metadata": {},
   "outputs": [
    {
     "name": "stdout",
     "output_type": "stream",
     "text": [
      "[11 22 33 44 55 66]\n",
      "[11]\n",
      "[44]\n"
     ]
    }
   ],
   "source": [
    "# Creamos un arreglo unidimensional de datos\n",
    "data = np.array([11, 22, 33, 44, 55, 66])\n",
    "\n",
    "# Utilizamos la notación para obtener todos los elementos del arreglo\n",
    "print(data[:])\n",
    "\n",
    "# Utilizamos la notación para obtener los primeros dos elementos\n",
    "# La primera entrada representa el primer valor que se requiere obtener elementos\n",
    "# La segunda entrada representa el valor a partir del cual ya no se requiere obtener elementos\n",
    "print(data[0:1])\n",
    "\n",
    "#También existen los índices negativos, por ejemplo si se quieren los últimso dos elementos\n",
    "print(data[-3:-2])"
   ]
  },
  {
   "cell_type": "markdown",
   "metadata": {},
   "source": [
    "## Particiones Bidimensionales\n",
    "\n",
    "En Machine Learning, se utilizará con más frecuencia una partición bidimensional. Es común en el oficio, partir la información en distintas variables, por ejemplo, se parten las variables de entrada (X) y las variables de salida (Y). "
   ]
  },
  {
   "cell_type": "code",
   "execution_count": 23,
   "metadata": {},
   "outputs": [
    {
     "name": "stdout",
     "output_type": "stream",
     "text": [
      "[[11 22]\n",
      " [44 55]\n",
      " [77 88]]\n",
      "[33 66 99]\n"
     ]
    }
   ],
   "source": [
    "# Definimos lo que serán las variables de entrada\n",
    "# X = [:, :-1] esto quiere decir que tomaremos de todos los renglones, todas las columnas menos la última\n",
    "\n",
    "#Definimos lo que serán las variables de salida\n",
    "# y = [:, -1] esto quiere decir que tomaremos de todos los renglones, únicamente se tomará la última columna\n",
    "\n",
    "# Creamos un arreglo bidimensional para partir\n",
    "data2 = np.array([[11, 22, 33],\n",
    "               [44, 55, 66],\n",
    "               [77, 88, 99]])\n",
    "\n",
    "# Imprimimos las variables de entrada y la de salida\n",
    "X, y = data2[:, :-1], data2[:, -1] \n",
    "print(X)\n",
    "print(y)"
   ]
  },
  {
   "cell_type": "markdown",
   "metadata": {},
   "source": [
    "# Renglones de entrenamiento y prueba\n",
    "\n",
    "También se acostumbra partir la información, de tal manera que una parte sea utilizada para el entrenamiento del modelo y la otra parte para probar qué tan preciso es el modelo de aprendizaje de máquina."
   ]
  },
  {
   "cell_type": "code",
   "execution_count": 24,
   "metadata": {},
   "outputs": [
    {
     "name": "stdout",
     "output_type": "stream",
     "text": [
      "[[11 22 33]\n",
      " [44 55 66]]\n",
      "(2, 3)\n",
      "[[77 88 99]]\n",
      "(1, 3)\n"
     ]
    }
   ],
   "source": [
    "# Creamos una variable que determine cuántos datos queremos para la parte de entrenamiento\n",
    "split = 2\n",
    "\n",
    "# Separamos los datos\n",
    "train, test = data2[:split, :], data2[split:, :]\n",
    "\n",
    "# Imprimimos los datos\n",
    "print(train)\n",
    "print(train.shape)\n",
    "print(test)\n",
    "print(test.shape)"
   ]
  },
  {
   "cell_type": "markdown",
   "metadata": {},
   "source": [
    "## Reescalamiento de arreglos\n",
    "\n",
    "Después de partir los datos, quizás es necesario hacer una rescala. Por ejemplo, algunas librerías como scikit-learn requieren un que un arreglo unidimensional para la variable de salida (y) tenga el formato de un arreglo bidimensional con una columna. Otros algoritmos como el Long Short-Memory recurrent neural network en Keras, necesita que la entrada sea un arreglo tridimensional compuesta por muestras, tiempos y características. Es importante saber cómo reescalar los arreglos con Numpy."
   ]
  },
  {
   "cell_type": "code",
   "execution_count": 27,
   "metadata": {},
   "outputs": [
    {
     "name": "stdout",
     "output_type": "stream",
     "text": [
      "Su nombre es André, tiene 24 años de edad y su IMC es de 0.130\n"
     ]
    }
   ],
   "source": [
    "# Nota: Para la función print, existe la manera de imprimir texto con variables sin tener que estar poniendo y quitando comillas\n",
    "nombre = 'André'\n",
    "edad = 24\n",
    "IMC = 0.13\n",
    "\n",
    "# Se escribe de la siguiente manera\n",
    "print(\"Su nombre es %s, tiene %d años de edad y su IMC es de %.3f\" % (nombre, edad, IMC))"
   ]
  },
  {
   "cell_type": "code",
   "execution_count": 31,
   "metadata": {},
   "outputs": [
    {
     "name": "stdout",
     "output_type": "stream",
     "text": [
      "[11 22 33 44 55]\n",
      "(5,)\n",
      "Elementos: 5\n",
      "[[11 22 33]\n",
      " [44 55 66]\n",
      " [77 88 99]]\n",
      "(3, 3)\n",
      "Renglones: 3\n",
      "Columnas: 3\n"
     ]
    }
   ],
   "source": [
    "# Creamos datos unidimensionales y los imprimimos\n",
    "data1 = np.array([11, 22, 33, 44, 55])\n",
    "print(data1)\n",
    "\n",
    "# Imprimimos las características del tamaño\n",
    "print(data1.shape)\n",
    "print(\"Elementos: %d\" % data1.shape[0])\n",
    "\n",
    "# Imprime otro arreglo bidimensional y su tamaño\n",
    "print(data2)\n",
    "print(data2.shape)\n",
    "print(\"Renglones: %d\" % data2.shape[0])\n",
    "print(\"Columnas: %d\" % data2.shape[0])\n",
    "\n"
   ]
  },
  {
   "cell_type": "markdown",
   "metadata": {},
   "source": [
    "# De Unidimensional a Bidimensional\n",
    "\n",
    "Como ya se vio, es común que se tenga que cambiar la dimensionalidad de un arreglo, por ejemplo, cambiar un arreglo unidmensional a un arreglo bidimensional con una columna y múltiples arreglos. NumPy, para esto, nos da la función *reshape()*, ésta toma como argumento una tupla con los valores a los que se quiere convertir el arreglo. "
   ]
  },
  {
   "cell_type": "code",
   "execution_count": 35,
   "metadata": {},
   "outputs": [
    {
     "name": "stdout",
     "output_type": "stream",
     "text": [
      "[11 22 33 44 55]\n",
      "(5,)\n",
      "[[11]\n",
      " [22]\n",
      " [33]\n",
      " [44]\n",
      " [55]]\n",
      "(5, 1)\n"
     ]
    }
   ],
   "source": [
    "# Imprimimos el arreglo que teníamos\n",
    "print(data1)\n",
    "print(data1.shape)\n",
    "\n",
    "# Cambiamos la escala con la función reshape()\n",
    "data3 = data1.reshape((data1.shape[0], 1))\n",
    "print(data3)\n",
    "print(data3.shape)"
   ]
  },
  {
   "cell_type": "markdown",
   "metadata": {},
   "source": [
    "# Reescala de bidimensional a tridimensional\n",
    "\n",
    "Pensemos que tenemos un arreglo en donde cada secuencia tiene registrados mútliples tiempos con una observación. Entonces podemos utilizar los tamaños para especificar el números de muestras (queremos que sean los renglones) y columnas (los pasos del tiempo) y fijar el número de características a 1."
   ]
  },
  {
   "cell_type": "code",
   "execution_count": 38,
   "metadata": {},
   "outputs": [
    {
     "name": "stdout",
     "output_type": "stream",
     "text": [
      "[[11 22 33]\n",
      " [44 55 66]\n",
      " [77 88 99]]\n",
      "(3, 3)\n",
      "[[[11]\n",
      "  [22]\n",
      "  [33]]\n",
      "\n",
      " [[44]\n",
      "  [55]\n",
      "  [66]]\n",
      "\n",
      " [[77]\n",
      "  [88]\n",
      "  [99]]]\n",
      "(3, 3, 1)\n",
      "[11]\n"
     ]
    }
   ],
   "source": [
    "# Tomamos el vector antes utilizado de data2\n",
    "print(data2)\n",
    "print(data2.shape)\n",
    "\n",
    "# Hacemos la reescala\n",
    "data4 = data2.reshape((data2.shape[0], data2.shape[1], 1))\n",
    "print(data4)\n",
    "print(data4.shape)\n",
    "print(data4[0,0,])"
   ]
  }
 ],
 "metadata": {
  "kernelspec": {
   "display_name": "Python 3",
   "language": "python",
   "name": "python3"
  },
  "language_info": {
   "codemirror_mode": {
    "name": "ipython",
    "version": 3
   },
   "file_extension": ".py",
   "mimetype": "text/x-python",
   "name": "python",
   "nbconvert_exporter": "python",
   "pygments_lexer": "ipython3",
   "version": "3.8.3"
  }
 },
 "nbformat": 4,
 "nbformat_minor": 4
}
