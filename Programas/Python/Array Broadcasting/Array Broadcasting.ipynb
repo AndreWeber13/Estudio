{
 "cells": [
  {
   "cell_type": "markdown",
   "metadata": {},
   "source": [
    "# Broadcasting de Arreglos\n",
    "\n",
    "Si se tienen dos arreglos de distintos tamaños, no se pueden sumar o en general, no se pueden utilizar para realizar aritmética. Una manera de pasar esta limitación consiste en duplicar el arreglo de tamaño menor para que tenga la dimensión y el tamaño del más grande. "
   ]
  },
  {
   "cell_type": "markdown",
   "metadata": {},
   "source": [
    "## Limitaciones con la Aritmética de Arreglos\n",
    "\n",
    "Se pueden realizar operaciones de adición o substracción entre arreglos. Veamos un simple ejemplo de esto. Sin embargo, sólo se puede realizar si el tamaño de los arreglos es el mismo."
   ]
  },
  {
   "cell_type": "code",
   "execution_count": 1,
   "metadata": {},
   "outputs": [
    {
     "name": "stdout",
     "output_type": "stream",
     "text": [
      "[5 7 9]\n"
     ]
    }
   ],
   "source": [
    "import numpy as np\n",
    "\n",
    "# Creamos dos arreglos\n",
    "a = np.array([1, 2, 3])\n",
    "b = np.array([4, 5, 6])\n",
    "\n",
    "# Sumamos los arreglos y los imprimimos\n",
    "c = a + b\n",
    "print(c)"
   ]
  },
  {
   "cell_type": "markdown",
   "metadata": {},
   "source": [
    "## Array Broadcasting\n",
    "\n",
    "Para arreglar el problema expuesto, NumPy nos da un método que se le onoce como *BroadCasting* que permite realizar operaciones aritméticas con arreglos de diferente tamaño. Esto lo logra modificando el tamaño del arreglo pequeño de tal manera que queden los arreglos de la misma dimensión. En realidad NumPy sólo asigna memoria y realiza operaciones eficientes.\n",
    "\n",
    "\n",
    "## Broadcasting en NumPy\n",
    "\n",
    "Para ejemplificar el funcionamiento del método, veremos unos ejemplos."
   ]
  },
  {
   "cell_type": "code",
   "execution_count": 2,
   "metadata": {},
   "outputs": [
    {
     "name": "stdout",
     "output_type": "stream",
     "text": [
      "[3 4 5]\n"
     ]
    }
   ],
   "source": [
    "# Creamos un arreglo y un escalar\n",
    "a = np.array([1, 2, 3])\n",
    "b = 2\n",
    "\n",
    "# Realizamos el broadcast\n",
    "c = a + b # Aquí crea un arreglo de tres entradas con el valor de b\n",
    "print(c)"
   ]
  },
  {
   "cell_type": "markdown",
   "metadata": {},
   "source": [
    "## Escalares y Arreglos Bidimensionales\n",
    "\n",
    "También se puede aplicar el broadcasting a arreglos multidimensionales, veamos el siguiente ejemplo."
   ]
  },
  {
   "cell_type": "code",
   "execution_count": 6,
   "metadata": {},
   "outputs": [
    {
     "name": "stdout",
     "output_type": "stream",
     "text": [
      "[[1 2 3]\n",
      " [4 5 6]]\n",
      "[[3 4 5]\n",
      " [6 7 8]]\n",
      "[[2 4 6]\n",
      " [5 7 9]]\n"
     ]
    }
   ],
   "source": [
    "# Creamos el arreglo\n",
    "A = np.array([[1, 2, 3],\n",
    "             [4, 5, 6]])\n",
    "print(A)\n",
    "\n",
    "# Realizamos el broadcast\n",
    "B = A + b\n",
    "print(B)\n",
    "\n",
    "# También probamos con un arreglo de distinta dimensión\n",
    "b = np.array([1, 2, 3])\n",
    "B = A + b\n",
    "print(B)"
   ]
  },
  {
   "cell_type": "markdown",
   "metadata": {},
   "source": [
    "## Limitaciones del Broadcasting\n",
    "\n",
    "Lamentablemente, el broadcasting no siempre se puede utilizar, pues establece una regla para su correcto funcionamiento. El broadcasting podrá ser utilizado únicamente si la dimensión de los arreglos es de al menos uno. Esto aplica de manera análoga para cuando se trata de arreglos bidimensionales, considerando los renglones y columnas. Hagamos un ejemplo en donde el broadcasting falla."
   ]
  },
  {
   "cell_type": "code",
   "execution_count": 7,
   "metadata": {},
   "outputs": [
    {
     "name": "stdout",
     "output_type": "stream",
     "text": [
      "[[1 2 3]\n",
      " [4 5 6]]\n",
      "(2, 3)\n",
      "(2,)\n"
     ]
    },
    {
     "ename": "ValueError",
     "evalue": "operands could not be broadcast together with shapes (2,3) (2,) ",
     "output_type": "error",
     "traceback": [
      "\u001b[1;31m---------------------------------------------------------------------------\u001b[0m",
      "\u001b[1;31mValueError\u001b[0m                                Traceback (most recent call last)",
      "\u001b[1;32m<ipython-input-7-cac62b426c73>\u001b[0m in \u001b[0;36m<module>\u001b[1;34m\u001b[0m\n\u001b[0;32m      8\u001b[0m \u001b[1;33m\u001b[0m\u001b[0m\n\u001b[0;32m      9\u001b[0m \u001b[1;31m# Intentamos hacer el broadcast\u001b[0m\u001b[1;33m\u001b[0m\u001b[1;33m\u001b[0m\u001b[1;33m\u001b[0m\u001b[0m\n\u001b[1;32m---> 10\u001b[1;33m \u001b[0mC\u001b[0m \u001b[1;33m=\u001b[0m \u001b[0mA\u001b[0m \u001b[1;33m+\u001b[0m \u001b[0mb\u001b[0m\u001b[1;33m\u001b[0m\u001b[1;33m\u001b[0m\u001b[0m\n\u001b[0m\u001b[0;32m     11\u001b[0m \u001b[0mprint\u001b[0m\u001b[1;33m(\u001b[0m\u001b[0mC\u001b[0m\u001b[1;33m)\u001b[0m\u001b[1;33m\u001b[0m\u001b[1;33m\u001b[0m\u001b[0m\n",
      "\u001b[1;31mValueError\u001b[0m: operands could not be broadcast together with shapes (2,3) (2,) "
     ]
    }
   ],
   "source": [
    "# Veamos el arreglo A y su forma\n",
    "print(A)\n",
    "print(A.shape)\n",
    "\n",
    "# Hacemos una variable no compatible\n",
    "b = np.array([1, 2])\n",
    "print(b.shape)\n",
    "\n",
    "# Intentamos hacer el broadcast\n",
    "C = A + b\n",
    "print(C)"
   ]
  }
 ],
 "metadata": {
  "kernelspec": {
   "display_name": "Python 3",
   "language": "python",
   "name": "python3"
  },
  "language_info": {
   "codemirror_mode": {
    "name": "ipython",
    "version": 3
   },
   "file_extension": ".py",
   "mimetype": "text/x-python",
   "name": "python",
   "nbconvert_exporter": "python",
   "pygments_lexer": "ipython3",
   "version": "3.8.3"
  }
 },
 "nbformat": 4,
 "nbformat_minor": 4
}
